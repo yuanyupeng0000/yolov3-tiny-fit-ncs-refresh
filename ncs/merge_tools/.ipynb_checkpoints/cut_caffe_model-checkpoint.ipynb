{
 "cells": [
  {
   "cell_type": "code",
   "execution_count": 13,
   "metadata": {},
   "outputs": [],
   "source": [
    "import numpy as np  \n",
    "import sys,os  \n",
    "caffe_root ='/data/ssd-caffe/cp_caffe/'\n",
    "sys.path.insert(0, caffe_root + 'python')  \n",
    "import caffe  \n",
    "deploy_proto = '/data/github_repos/yolov3-tiny-fit-ncs/ncs/yolov3-tiny-ncs-without-last-maxpool.prototxt'\n",
    "caffe_model = '/data/github_repos/yolov3-tiny-fit-ncs/ncs/generated_files/Jenerated_nolastpooling.caffemodel'\n",
    "save_model = \"generated_cutted.caffemodel\"\n",
    "save_weights = 'generated_binary_weights'\n",
    "\n",
    "def cut_model(net, net_part):  \n",
    "    for key in net.params.iterkeys():\n",
    "        print(\"key:\" + str(key))\n",
    "        blobs = net.params[key]\n",
    "        for i, w in enumerate(blobs):\n",
    "            net_part.params[key][i].data[...] = w.data\n",
    "        if(str(key) == 'layer3-scale'):\n",
    "            print('cutted to {0}'.format(key))\n",
    "            break\n",
    "        '''\n",
    "        if type(net.params[key]) is caffe._caffe.BlobVec:\n",
    "            print(\"is caffe._caffe.BlobVec\")\n",
    "            if key.endswith(\"-bn\") or key.endswith(\"-scale\"):\n",
    "                continue\n",
    "            else:\n",
    "                conv = net.params[key]\n",
    "                conv_part = net_part.params[key]\n",
    "                print(\"merge layer {0}\".format(conv))\n",
    "                if not net.params.has_key(key[:-5] + \"-bn\"):\n",
    "                    print(\"not need bn, copy w and b\")\n",
    "                    for i, w in enumerate(conv):\n",
    "                        #print(\"i={0}\".format(i))\n",
    "                        net_part.params[key][i].data[...] = w.data\n",
    "                        #print(w.data.shape)\n",
    "                else:                   \n",
    "                    print(\"need bn, really start bn and scale\")\n",
    "                    bn = net.params[key[:-5] + \"-bn\"]\n",
    "                    scale = net.params[key[:-5] + \"-scale\"]\n",
    "                    wt = conv[0].data\n",
    "\n",
    "                    \n",
    "                    if len(conv) > 1:\n",
    "                        bias = conv[1].data\n",
    "                    mean = bn[0].data\n",
    "                    var = bn[1].data\n",
    "                    scalef = bn[2].data\n",
    "                    scales = scale[0].data\n",
    "                    shift = scale[1].data\n",
    "        '''          "
   ]
  },
  {
   "cell_type": "code",
   "execution_count": 14,
   "metadata": {},
   "outputs": [
    {
     "name": "stdout",
     "output_type": "stream",
     "text": [
      "key:layer1-conv\n",
      "key:layer1-bn\n",
      "key:layer1-scale\n",
      "key:layer3-conv\n",
      "cutted to layer3-conv\n"
     ]
    }
   ],
   "source": [
    "caffe.set_mode_cpu()\n",
    "net = caffe.Net(deploy_proto, caffe_model, caffe.TEST)\n",
    "net_part = caffe.Net(deploy_proto, caffe.TEST) \n",
    "\n",
    "cut_model(net, net_part)\n",
    "net_part.save(save_model)\n",
    "net.save('test.caffemodel')"
   ]
  },
  {
   "cell_type": "code",
   "execution_count": null,
   "metadata": {},
   "outputs": [],
   "source": []
  }
 ],
 "metadata": {
  "kernelspec": {
   "display_name": "Python 2",
   "language": "python",
   "name": "python2"
  },
  "language_info": {
   "codemirror_mode": {
    "name": "ipython",
    "version": 2
   },
   "file_extension": ".py",
   "mimetype": "text/x-python",
   "name": "python",
   "nbconvert_exporter": "python",
   "pygments_lexer": "ipython2",
   "version": "2.7.12"
  }
 },
 "nbformat": 4,
 "nbformat_minor": 2
}
