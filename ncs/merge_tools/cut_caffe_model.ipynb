{
 "cells": [
  {
   "cell_type": "code",
   "execution_count": 15,
   "metadata": {},
   "outputs": [],
   "source": [
    "import numpy as np  \n",
    "import sys,os  \n",
    "caffe_root ='/data/ssd-caffe/cp_caffe/'\n",
    "sys.path.insert(0, caffe_root + 'python')  \n",
    "import caffe  \n",
    "deploy_proto = '/data/github_repos/yolov3-tiny-fit-ncs/ncs/yolov3-tiny-ncs-without-last-maxpool.prototxt'\n",
    "caffe_model = '/data/github_repos/yolov3-tiny-fit-ncs/ncs/generated_files/Jenerated_nolastpooling.caffemodel'\n",
    "save_model = \"generated_cutted.caffemodel\"\n",
    "save_weights = 'generated_binary_weights'\n",
    "\n",
    "def cut_model(net, net_part):  \n",
    "    for key in net.params.iterkeys():\n",
    "        print(\"key:\" + str(key))\n",
    "        blobs = net.params[key]\n",
    "        for i, w in enumerate(blobs):\n",
    "            net_part.params[key][i].data[...] = w.data\n",
    "        if(str(key) == 'layer3-scale'):\n",
    "            print('cutted to {0}'.format(key))"
   ]
  },
  {
   "cell_type": "code",
   "execution_count": 16,
   "metadata": {},
   "outputs": [
    {
     "name": "stdout",
     "output_type": "stream",
     "text": [
      "key:layer1-conv\n",
      "key:layer1-bn\n",
      "key:layer1-scale\n",
      "key:layer3-conv\n",
      "key:layer3-bn\n",
      "key:layer3-scale\n",
      "cutted to layer3-scale\n"
     ]
    }
   ],
   "source": [
    "caffe.set_mode_cpu()\n",
    "net = caffe.Net(deploy_proto, caffe_model, caffe.TEST)\n",
    "net_part = caffe.Net(deploy_proto, caffe.TEST) \n",
    "\n",
    "cut_model(net, net_part)\n",
    "net_part.save(save_model)\n",
    "net.save('test.caffemodel')"
   ]
  },
  {
   "cell_type": "code",
   "execution_count": null,
   "metadata": {},
   "outputs": [],
   "source": []
  }
 ],
 "metadata": {
  "kernelspec": {
   "display_name": "Python 2",
   "language": "python",
   "name": "python2"
  },
  "language_info": {
   "codemirror_mode": {
    "name": "ipython",
    "version": 2
   },
   "file_extension": ".py",
   "mimetype": "text/x-python",
   "name": "python",
   "nbconvert_exporter": "python",
   "pygments_lexer": "ipython2",
   "version": "2.7.12"
  }
 },
 "nbformat": 4,
 "nbformat_minor": 2
}
